{
 "cells": [
  {
   "cell_type": "code",
   "execution_count": null,
   "metadata": {},
   "outputs": [],
   "source": [
    "def show_slice_window(slice, level, window):\n",
    "   \"\"\"\n",
    "   Function to display an image slice\n",
    "   Input is a numpy 2D array\n",
    "   \"\"\"\n",
    "   max = level + window/2\n",
    "   min = level - window/2\n",
    "   slice = slice.clip(min,max)"
   ]
  },
  {
   "cell_type": "code",
   "execution_count": null,
   "metadata": {},
   "outputs": [],
   "source": [
    "def gaussian_smooth(image, kernel_size=(5,5), sigma_x=0, sigma_y=0):\n",
    "    \"\"\"\n",
    "    Apply Gaussian smoothing to an image using OpenCV.\n",
    "    \n",
    "    Parameters:\n",
    "    -----------\n",
    "    image : numpy.ndarray\n",
    "        Input image (2D or 3D array)\n",
    "    kernel_size : tuple, optional\n",
    "        Size of the Gaussian kernel (default is (5,5))\n",
    "        Must be odd numbers\n",
    "    sigma_x : float, optional\n",
    "        Gaussian kernel standard deviation in X direction\n",
    "        If 0, calculated from kernel size\n",
    "    sigma_y : float, optional\n",
    "        Gaussian kernel standard deviation in Y direction\n",
    "        If 0, calculated from kernel size\n",
    "    \n",
    "    Returns:\n",
    "    --------\n",
    "    numpy.ndarray\n",
    "        Smoothed image\n",
    "    \"\"\"\n",
    "    # Ensure kernel size is odd\n",
    "    kernel_size = (\n",
    "        kernel_size[0] if kernel_size[0] % 2 == 1 else kernel_size[0] + 1,\n",
    "        kernel_size[1] if kernel_size[1] % 2 == 1 else kernel_size[1] + 1\n",
    "    )\n",
    "    \n",
    "    # Apply Gaussian blur\n",
    "    smoothed = cv2.GaussianBlur(\n",
    "        image, \n",
    "        kernel_size, \n",
    "        sigmaX=sigma_x, \n",
    "        sigmaY=sigma_y\n",
    "    )\n",
    "    \n",
    "    return smoothed"
   ]
  },
  {
   "cell_type": "code",
   "execution_count": null,
   "metadata": {},
   "outputs": [],
   "source": [
    "import SimpleITK as sitk\n",
    "def smooth_image(image_array, sigma=1.0):\n",
    "    \"\"\"\n",
    "    Applique un lissage (Gaussian smoothing) sur une image 3D ou 2D.\n",
    "    \n",
    "    :param image_array: np.array volumétrique (D x H x W) ou image 2D (H x W).\n",
    "    :param sigma: Écart type (sigma) du filtre Gaussien.\n",
    "    :return: np.array lissé.\n",
    "    \"\"\"\n",
    "    # Convertir le tableau NumPy en SimpleITK Image\n",
    "    image_sitk = sitk.GetImageFromArray(image_array)\n",
    "    \n",
    "    # Appliquer un filtre Gaussien\n",
    "    smoothed_image = sitk.SmoothingRecursiveGaussian(image_sitk, sigma)\n",
    "    \n",
    "    # Convertir l'image lissée en tableau NumPy\n",
    "    smoothed_array = sitk.GetArrayFromImage(smoothed_image)\n",
    "    return smoothed_array"
   ]
  },
  {
   "cell_type": "code",
   "execution_count": null,
   "metadata": {},
   "outputs": [],
   "source": [
    "def apply_gabor_filter(image, kernel_size=31, sigma=4.0, theta=0, lambd=10.0, gamma=0.5, psi=0):\n",
    "    \"\"\"\n",
    "    Applies a Gabor filter to an image.\n",
    "    :param image: Input image (numpy array, grayscale).\n",
    "    :param kernel_size: Size of the Gabor kernel (odd integer).\n",
    "    :param sigma: Standard deviation of the Gaussian function.\n",
    "    :param theta: Orientation of the normal to the parallel stripes (in radians).\n",
    "    :param lambd: Wavelength of the sinusoidal factor.\n",
    "    :param gamma: Spatial aspect ratio (ellipticity of the Gaussian).\n",
    "    :param psi: Phase offset (in radians).\n",
    "    :return: Filtered image.\n",
    "    \"\"\"\n",
    "    # Create Gabor kernel\n",
    "    gabor_kernel = cv2.getGaborKernel((kernel_size, kernel_size), sigma, theta, lambd, gamma, psi, ktype=cv2.CV_32F)\n",
    "    \n",
    "    # Apply the Gabor filter to the image\n",
    "    filtered_image = cv2.filter2D(image, cv2.CV_8UC3, gabor_kernel)\n",
    "    \n",
    "    return filtered_image\n"
   ]
  }
 ],
 "metadata": {
  "language_info": {
   "name": "python"
  }
 },
 "nbformat": 4,
 "nbformat_minor": 2
}
