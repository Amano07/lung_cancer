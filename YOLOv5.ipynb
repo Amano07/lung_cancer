{
 "cells": [
  {
   "cell_type": "code",
   "execution_count": null,
   "metadata": {},
   "outputs": [],
   "source": [
    "import nrrd\n",
    "import pandas as pd\n",
    "import matplotlib.pyplot as plt\n",
    "import os\n",
    "import numpy as np"
   ]
  },
  {
   "cell_type": "code",
   "execution_count": null,
   "metadata": {},
   "outputs": [],
   "source": [
    "'''\n",
    "# Define paths to the folder containing .nrrd files and the .xls file\n",
    "nrrd_folder = \"Train\"\n",
    "xls_file = \"dataset_lung.xlsx\"\n",
    "\n",
    "# Load the Excel file\n",
    "patient_data = pd.read_excel(xls_file)\n",
    "\n",
    "# Example to load a full slice and nodule\n",
    "full_slice_path = \"pat1_fullslice.nrrd\"\n",
    "nodule_path = \"pat1_nodule.nrrd\"\n",
    "\n",
    "# Load the NRRD files\n",
    "full_slice_data, _ = nrrd.read(full_slice_path)\n",
    "nodule_data, _ = nrrd.read(nodule_path)\n",
    "\n",
    "# Display the full slice and nodule images\n",
    "plt.subplot(1, 2, 1)\n",
    "plt.title(\"Full Slice\")\n",
    "plt.imshow(full_slice_data, cmap='gray')\n",
    "\n",
    "plt.subplot(1, 2, 2)\n",
    "plt.title(\"Nodule\")\n",
    "plt.imshow(nodule_data, cmap='gray')\n",
    "\n",
    "plt.show()\n",
    "'''"
   ]
  },
  {
   "cell_type": "code",
   "execution_count": null,
   "metadata": {},
   "outputs": [],
   "source": [
    "'''import cv2\n",
    "import os\n",
    "import numpy as np\n",
    "\n",
    "# Paths\n",
    "full_slice_folder = \"full_slices/\"      # Folder containing full slice images\n",
    "nodule_folder = \"nodules/\"              # Folder containing nodule images (templates)\n",
    "output_label_folder = \"labels/\"         # YOLOv5 label output folder\n",
    "os.makedirs(output_label_folder, exist_ok=True)\n",
    "\n",
    "# Function to perform template matching\n",
    "def detect_nodule_and_save_labels(full_image_path, nodule_templates, output_label_path):\n",
    "    image = cv2.imread(full_image_path, cv2.IMREAD_GRAYSCALE)\n",
    "    image_height, image_width = image.shape[:2]\n",
    "    bboxes = []  # List to store bounding boxes\n",
    "\n",
    "    for template_path in nodule_templates:\n",
    "        template = cv2.imread(template_path, cv2.IMREAD_GRAYSCALE)\n",
    "        h, w = template.shape[:2]\n",
    "\n",
    "        # Perform template matching\n",
    "        result = cv2.matchTemplate(image, template, cv2.TM_CCOEFF_NORMED)\n",
    "        threshold = 0.8  # Adjust threshold for confidence\n",
    "        loc = np.where(result >= threshold)\n",
    "\n",
    "        # Collect bounding boxes\n",
    "        for pt in zip(*loc[::-1]):  # Switch columns and rows\n",
    "            x, y = pt[0], pt[1]\n",
    "            bbox = [x + w // 2, y + h // 2, w, h]  # Centered bounding box\n",
    "            bboxes.append(bbox)\n",
    "\n",
    "    # Normalize and save bounding boxes in YOLO format\n",
    "    with open(output_label_path, 'w') as f:\n",
    "        for bbox in bboxes:\n",
    "            x_center = bbox[0] / image_width\n",
    "            y_center = bbox[1] / image_height\n",
    "            norm_width = bbox[2] / image_width\n",
    "            norm_height = bbox[3] / image_height\n",
    "            f.write(f\"0 {x_center} {y_center} {norm_width} {norm_height}\\n\")  # Class 0 for nodule\n",
    "\n",
    "# Run the detection\n",
    "full_slice_images = [os.path.join(full_slice_folder, img) for img in os.listdir(full_slice_folder)]\n",
    "nodule_templates = [os.path.join(nodule_folder, img) for img in os.listdir(nodule_folder)]\n",
    "\n",
    "for full_image_path in full_slice_images:\n",
    "    image_name = os.path.basename(full_image_path).replace('.png', '.txt').replace('.jpg', '.txt')\n",
    "    output_label_path = os.path.join(output_label_folder, image_name)\n",
    "    detect_nodule_and_save_labels(full_image_path, nodule_templates, output_label_path)'''\n"
   ]
  },
  {
   "cell_type": "code",
   "execution_count": 13,
   "metadata": {},
   "outputs": [
    {
     "name": "stdout",
     "output_type": "stream",
     "text": [
      "            Full_slice            Nodule  TumorClass\n",
      "0  pat1_fullslice.nrrd  pat1_nodule.nrrd           5\n",
      "1  pat2_fullslice.nrrd  pat2_nodule.nrrd           5\n",
      "2  pat3_fullslice.nrrd  pat3_nodule.nrrd           2\n",
      "3  pat4_fullslice.nrrd  pat4_nodule.nrrd           5\n",
      "4  pat5_fullslice.nrrd  pat5_nodule.nrrd           4\n"
     ]
    }
   ],
   "source": [
    "import pandas as pd\n",
    "\n",
    "# Define paths to the folder containing .nrrd files and the .xls file\n",
    "nrrd_folder = \"Train\"\n",
    "excel_path = 'dataset_lung.xlsx'\n",
    "df = pd.read_excel(excel_path)\n",
    "\n",
    "# Display the Excel content\n",
    "print(df.head())"
   ]
  },
  {
   "cell_type": "code",
   "execution_count": 15,
   "metadata": {},
   "outputs": [
    {
     "name": "stdout",
     "output_type": "stream",
     "text": [
      "Dataset preparation complete with tumor class labels!\n"
     ]
    }
   ],
   "source": [
    "import nrrd\n",
    "import cv2\n",
    "import numpy as np\n",
    "import os\n",
    "\n",
    "# Folder paths\n",
    "images_dir = './images'\n",
    "labels_dir = './labels'\n",
    "\n",
    "os.makedirs(images_dir, exist_ok=True)\n",
    "os.makedirs(labels_dir, exist_ok=True)\n",
    "\n",
    "# Iterate through Excel rows\n",
    "for index, row in df.iterrows():\n",
    "    full_slice_path = row['Full_slice']     # Full slice filename\n",
    "    nodule_path = row['Nodule']             # Nodule filename\n",
    "    tumor_class = int(row['TumorClass'])   # Tumor class (class_id)\n",
    "\n",
    "    # print(os.path.join(nrrd_folder, full_slice_path))\n",
    "    \n",
    "    # Load NRRD files\n",
    "    full_slice_data, _ = nrrd.read(os.path.join(nrrd_folder, full_slice_path))\n",
    "    nodule_data, _ = nrrd.read(os.path.join(nrrd_folder, nodule_path))\n",
    "\n",
    "    # Normalize for OpenCV compatibility\n",
    "    full_slice = (full_slice_data * 255).astype(np.uint8)\n",
    "    nodule_template = (nodule_data * 255).astype(np.uint8)\n",
    "    \n",
    "    # Template Matching to find bounding box\n",
    "    result = cv2.matchTemplate(full_slice, nodule_template, cv2.TM_CCOEFF_NORMED)\n",
    "    _, _, _, max_loc = cv2.minMaxLoc(result)\n",
    "\n",
    "    # Bounding box coordinates\n",
    "    h, w = nodule_template.shape\n",
    "    x, y = max_loc\n",
    "    bbox = (x, y, w, h)\n",
    "\n",
    "    # Normalize bounding box for YOLO format\n",
    "    img_height, img_width = full_slice.shape\n",
    "    x_center = (x + w / 2) / img_width\n",
    "    y_center = (y + h / 2) / img_height\n",
    "    norm_width = w / img_width\n",
    "    norm_height = h / img_height\n",
    "\n",
    "    # Save the full slice image\n",
    "    image_output_path = os.path.join(images_dir, f\"pat{index+1}.jpg\")\n",
    "    cv2.imwrite(image_output_path, full_slice)\n",
    "\n",
    "    # Save the label in YOLO format (use tumor_class as class_id)\n",
    "    label_output_path = os.path.join(labels_dir, f\"pat{index+1}.txt\")\n",
    "    with open(label_output_path, 'w') as f:\n",
    "        f.write(f\"{tumor_class} {x_center:.6f} {y_center:.6f} {norm_width:.6f} {norm_height:.6f}\\n\")\n",
    "\n",
    "print(\"Dataset preparation complete with tumor class labels!\")\n"
   ]
  },
  {
   "cell_type": "code",
   "execution_count": null,
   "metadata": {},
   "outputs": [],
   "source": []
  }
 ],
 "metadata": {
  "kernelspec": {
   "display_name": "tf",
   "language": "python",
   "name": "python3"
  },
  "language_info": {
   "codemirror_mode": {
    "name": "ipython",
    "version": 3
   },
   "file_extension": ".py",
   "mimetype": "text/x-python",
   "name": "python",
   "nbconvert_exporter": "python",
   "pygments_lexer": "ipython3",
   "version": "3.9.20"
  }
 },
 "nbformat": 4,
 "nbformat_minor": 2
}
